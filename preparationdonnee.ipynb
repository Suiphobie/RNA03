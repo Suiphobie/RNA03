{
 "cells": [
  {
   "cell_type": "code",
   "execution_count": 1,
   "id": "initial_id",
   "metadata": {
    "collapsed": true,
    "ExecuteTime": {
     "end_time": "2024-07-05T12:49:11.334601Z",
     "start_time": "2024-07-05T12:49:11.015386Z"
    }
   },
   "outputs": [],
   "source": [
    "import pandas as pd"
   ]
  },
  {
   "cell_type": "code",
   "outputs": [],
   "source": [
    "# chargement des dataset\n",
    "df_asso = pd.read_csv('03.csv')\n",
    "df_nomenclature = pd.read_csv('https://data.atontour.info/RNA/nomenclature.csv', sep=';')"
   ],
   "metadata": {
    "collapsed": false,
    "ExecuteTime": {
     "end_time": "2024-07-05T12:51:06.060896Z",
     "start_time": "2024-07-05T12:51:05.995556Z"
    }
   },
   "id": "ea12e4d3469c2dbc",
   "execution_count": 5
  },
  {
   "cell_type": "code",
   "outputs": [
    {
     "name": "stderr",
     "output_type": "stream",
     "text": [
      "C:\\Users\\suifo\\AppData\\Local\\Temp\\ipykernel_33956\\2782459993.py:2: SettingWithCopyWarning: \n",
      "A value is trying to be set on a copy of a slice from a DataFrame.\n",
      "Try using .loc[row_indexer,col_indexer] = value instead\n",
      "\n",
      "See the caveats in the documentation: https://pandas.pydata.org/pandas-docs/stable/user_guide/indexing.html#returning-a-view-versus-a-copy\n",
      "  df_asso['adrs_codepostal'] = df_asso['adrs_codepostal'].astype(str)\n",
      "C:\\Users\\suifo\\AppData\\Local\\Temp\\ipykernel_33956\\2782459993.py:3: SettingWithCopyWarning: \n",
      "A value is trying to be set on a copy of a slice from a DataFrame.\n",
      "Try using .loc[row_indexer,col_indexer] = value instead\n",
      "\n",
      "See the caveats in the documentation: https://pandas.pydata.org/pandas-docs/stable/user_guide/indexing.html#returning-a-view-versus-a-copy\n",
      "  df_asso['objet_cat'] = df_asso['objet_cat'].astype(str)\n"
     ]
    }
   ],
   "source": [
    "# Convert en string\n",
    "df_asso['adrs_codepostal'] = df_asso['adrs_codepostal'].astype(str)\n",
    "df_asso['objet_cat'] = df_asso['objet_cat'].astype(str)\n",
    "df_nomenclature['code_parent'] = df_nomenclature['code_parent'].astype('str')"
   ],
   "metadata": {
    "collapsed": false,
    "ExecuteTime": {
     "end_time": "2024-07-05T13:01:36.473864Z",
     "start_time": "2024-07-05T13:01:36.470536Z"
    }
   },
   "id": "d0984eb78e1b74e6",
   "execution_count": 13
  },
  {
   "cell_type": "code",
   "outputs": [],
   "source": [
    "#nettoyage du dataset\n",
    "df_assoclean = df_asso[df_asso['adrs_codepostal'].astype(str).str.startswith('3')]"
   ],
   "metadata": {
    "collapsed": false,
    "ExecuteTime": {
     "end_time": "2024-07-05T12:59:38.278436Z",
     "start_time": "2024-07-05T12:59:38.274902Z"
    }
   },
   "id": "2673abaa9e31fb07",
   "execution_count": 11
  },
  {
   "cell_type": "code",
   "outputs": [
    {
     "data": {
      "text/plain": "<bound method NDFrame.head of              id       id_ex  siret  rup_mi gestion  date_creat  date_decla  \\\n0    W032001345  32005206.0    NaN     NaN    032P  2003-07-02  2005-02-02   \n1    W031003191         NaN    NaN     NaN    031S  2017-11-14  2017-11-14   \n2    W032000751  32001681.0    NaN     NaN    032P  1968-10-29  2021-11-07   \n3    W032003451         NaN    NaN     NaN    032P  2017-09-17  2017-09-17   \n4    W033002263  33005917.0    NaN     NaN    033S  1993-10-21  1993-10-21   \n..          ...         ...    ...     ...     ...         ...         ...   \n192  W032001565  32003001.0    NaN     NaN    032P  1986-11-17  2005-12-01   \n193  W031002231  31004497.0    NaN     NaN    031S  2000-03-21  2001-10-23   \n194  W031002471         NaN    NaN     NaN    031S  2013-01-31  2022-02-02   \n195  W033002160  33004636.0    NaN     NaN    033S  1986-10-29  2022-09-06   \n196  W031002187  31001781.0    NaN     NaN    031S  1969-06-25  2011-04-22   \n\n     date_publi  date_disso groupement  ... siteweb position objet_cat  \\\n0    1901-07-01  0001-01-01          S  ...     NaN        A         6   \n1    2017-11-25  0001-01-01          S  ...     NaN        A        17   \n2    1968-11-16  0001-01-01          S  ...     NaN        A        22   \n3    2017-09-30  0001-01-01          S  ...     NaN        A         6   \n4    1993-12-08  0001-01-01          S  ...     NaN        A        19   \n..          ...         ...        ...  ...     ...      ...       ...   \n192  1986-12-03  0001-01-01          S  ...     NaN        A        11   \n193  2000-04-15  0001-01-01          S  ...     NaN        A        20   \n194  2013-02-16  0001-01-01          S  ...     NaN        A         6   \n195  1986-11-12  0001-01-01          S  ...     NaN        A         7   \n196  1969-07-26  0001-01-01          S  ...     NaN        A        38   \n\n               objet_list                                     nom annee_creat  \\\n0    ['006000', '000000']       PI ASSOCIATION TRANSFEREE A PARIS        2003   \n1    ['017065', '000000']  AMICALE DES DONNEURS DE SANG DE CER...        2017   \n2    ['022510', '000000']  CANTINE SCOLAIRE DE SAINT GERMAIN D...        1968   \n3    ['006030', '000000']                            TAPATA BLUES        2017   \n4    ['019040', '019040']                                 PARTAGE        1993   \n..                    ...                                     ...         ...   \n192  ['011010', '000000']  ASSOCIATION SPORTIVE DU LEP AGRICOL...        1986   \n193  ['020020', '000000']                        PLANETE HARMONIE        2000   \n194  ['006020', '000000']                    LES TUBES DE COULEUR        2013   \n195  ['007000', '000000']                  BRIDGE CLUB VICHYSSOIS        1986   \n196  ['038105', '000000']   COMITE DE L'ASSOCIATION NATIONALE DES        1969   \n\n    membres benefices code_parent  \\\n0       121     22302           6   \n1       163      4315          17   \n2        41     12328          22   \n3        28     15168           6   \n4        14      5191          19   \n..      ...       ...         ...   \n192     120      2207          11   \n193     143     10554          20   \n194     113      2181           6   \n195       7     18403           7   \n196      59     13247          38   \n\n                                        libelle_parent  \n0    CULTURE, PRATIQUES D'ACTIVITÉS ARTISTIQUES, PR...  \n1                                                SANTÉ  \n2                     CONDUITE D'ACTIVITÉS ÉCONOMIQUES  \n3    CULTURE, PRATIQUES D'ACTIVITÉS ARTISTIQUES, PR...  \n4                               INTERVENTIONS SOCIALES  \n..                                                 ...  \n192                     SPORTS, ACTIVITÉS DE PLEIN AIR  \n193  ASSOCIATIONS CARITATIVES, HUMANITAIRES, AIDE A...  \n194  CULTURE, PRATIQUES D'ACTIVITÉS ARTISTIQUES, PR...  \n195                        CLUBS DE LOISIRS, RELATIONS  \n196  ARMÉE (DONT  PRÉPARATION MILITAIRE, MÉDAILLES)...  \n\n[197 rows x 24 columns]>"
     },
     "execution_count": 14,
     "metadata": {},
     "output_type": "execute_result"
    }
   ],
   "source": [
    "#merge avec la nomenclature\n",
    "df_assoclean = df_asso.merge(df_nomenclature, left_on='objet_cat', right_on='code_parent', how='inner')"
   ],
   "metadata": {
    "collapsed": false,
    "ExecuteTime": {
     "end_time": "2024-07-05T13:05:14.605788Z",
     "start_time": "2024-07-05T13:05:14.598435Z"
    }
   },
   "id": "f1ba93616b5449a2",
   "execution_count": 14
  },
  {
   "cell_type": "code",
   "outputs": [],
   "source": [
    "df_assoclean = df_assoclean.drop(columns=['siret', 'rup_mi', 'gestion', 'id_ex', 'siteweb', 'objet_list'])"
   ],
   "metadata": {
    "collapsed": false,
    "ExecuteTime": {
     "end_time": "2024-07-05T13:11:29.756413Z",
     "start_time": "2024-07-05T13:11:29.753012Z"
    }
   },
   "id": "ab791c24d606aef8",
   "execution_count": 16
  },
  {
   "cell_type": "code",
   "outputs": [],
   "source": [
    "df_assoclean.to_csv('asso.csv')"
   ],
   "metadata": {
    "collapsed": false,
    "ExecuteTime": {
     "end_time": "2024-07-05T13:13:28.195698Z",
     "start_time": "2024-07-05T13:13:28.190788Z"
    }
   },
   "id": "6cb62f62e8b01eee",
   "execution_count": 18
  }
 ],
 "metadata": {
  "kernelspec": {
   "display_name": "Python 3",
   "language": "python",
   "name": "python3"
  },
  "language_info": {
   "codemirror_mode": {
    "name": "ipython",
    "version": 2
   },
   "file_extension": ".py",
   "mimetype": "text/x-python",
   "name": "python",
   "nbconvert_exporter": "python",
   "pygments_lexer": "ipython2",
   "version": "2.7.6"
  }
 },
 "nbformat": 4,
 "nbformat_minor": 5
}
